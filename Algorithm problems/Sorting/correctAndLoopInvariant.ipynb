{
 "cells": [
  {
   "cell_type": "markdown",
   "metadata": {},
   "source": [
    "# Correctness and Loop Invariant Notebook\n",
    "\n",
    " https://www.hackerrank.com/challenges/correctness-invariant/problem\n",
    " goal is proof of desired property of code is maintained in the loop.\n",
    "\n",
    "3 parts to a proof\n",
    "* Initialization: it is true (in a limited sense) before the loop runs\n",
    "* Maintenance: if it's true before an iteration of a loop, it remaine true before the next iteration.\n",
    "* Termination: it will terminate in a useful way once it is finished.\n",
    "\n",
    "Say we have some InsertionSort code, where the outer loop goes through the whole array 'a'\n",
    "\n",
    "```python\n",
    "a = [3, 2, 21, 1, 5, 4, 2, 6, 8, 7, 2]\n",
    "for i in range(len(a)):\n",
    "    pass \n",
    "    # do the insertion sort code\n",
    "\n",
    "```\n",
    "We state the loop invariant is:\n",
    "\n",
    "> At the start of every iteration of the outer loop (indexed with i), the subarray until **ar\\[i\\]** consists of the original elements that were there, but in sorted order\n",
    "\n",
    "To prove Insertion Sort is correct, you will then demonstrate it for the three stages:\n",
    "\n",
    "* Initialization - The subarray starts with the first element of the array, and it is (obviously) sorted to begin with.\n",
    "\n",
    "* Maintenance - Each iteration of the loop expands the subarray, but keeps the sorted property. An element ***V*** gets inserted into the array only when it is greater than the element to its left. Since the elements to its left have already been sorted, it means ***V*** is greater than all the elements to its left, so the array remains sorted. (In Insertion Sort 2 we saw this by printing the array each time an element was properly inserted.)\n",
    "\n",
    "* Termination - The code will terminate after ***i*** \n",
    "has reached the last element in the array, which means the sorted subarray has expanded to encompass the entire array. The array is now fully sorted.\n"
   ]
  },
  {
   "cell_type": "markdown",
   "metadata": {},
   "source": [
    "# below is an InsertionSort code with an error. fix it"
   ]
  },
  {
   "cell_type": "code",
   "execution_count": 3,
   "metadata": {},
   "outputs": [
    {
     "output_type": "stream",
     "name": "stdout",
     "text": "3 1 2 2 2 4 5 6 7 8\n"
    }
   ],
   "source": [
    "test = [3, 2, 1, 5, 4, 2, 6, 8, 7, 2]\n",
    "\n",
    "def insertion_sort(l):\n",
    "    for i in range(1, len(l)):\n",
    "        j = i-1\n",
    "        key = l[i]\n",
    "        while (j > 0) and (l[j] > key):\n",
    "           l[j+1] = l[j]\n",
    "           j -= 1\n",
    "        l[j+1] = key\n",
    "    return l\n",
    "\n",
    "insertion_sort(test)\n",
    "print(\" \".join(map(str,test)))"
   ]
  },
  {
   "cell_type": "markdown",
   "metadata": {},
   "source": [
    "Think about the loop invariant.\n",
    "\n",
    "> At the start of every iteration of the outer loop (indexed with i), the subarray until **ar\\[i\\]** consists of the original elements that were there, but in sorted order\n",
    "\n",
    "did this hold true at all times?"
   ]
  },
  {
   "cell_type": "code",
   "execution_count": 18,
   "metadata": {},
   "outputs": [
    {
     "output_type": "stream",
     "name": "stdout",
     "text": "[3, 2, 1, 5, 4, 2, 6, 8, 7, 2]\n[3, 1, 2, 5, 4, 2, 6, 8, 7, 2]\n[3, 1, 2, 5, 4, 2, 6, 8, 7, 2]\n[3, 1, 2, 4, 5, 2, 6, 8, 7, 2]\n[3, 1, 2, 2, 4, 5, 6, 8, 7, 2]\n[3, 1, 2, 2, 4, 5, 6, 8, 7, 2]\n[3, 1, 2, 2, 4, 5, 6, 8, 7, 2]\n[3, 1, 2, 2, 4, 5, 6, 7, 8, 2]\n[3, 1, 2, 2, 2, 4, 5, 6, 7, 8]\n3 1 2 2 2 4 5 6 7 8\n"
    }
   ],
   "source": [
    "test = [3, 2, 1, 5, 4, 2, 6, 8, 7, 2,]\n",
    "\n",
    "def insertion_sort(l):\n",
    "    for i in range(1, len(l)):\n",
    "        j = i-1\n",
    "        key = l[i]\n",
    "        while (j > 0) and (l[j] > key):\n",
    "           l[j+1] = l[j]\n",
    "           j -= 1\n",
    "        l[j+1] = key\n",
    "        print(l)\n",
    "    return l\n",
    "\n",
    "insertion_sort(test)\n",
    "print(\" \".join(map(str,test)))"
   ]
  },
  {
   "cell_type": "markdown",
   "metadata": {},
   "source": [
    "Nope. \n",
    "* the loop fails to do anything on the first loop (maintenance)\n",
    "* fix by change condition `j > 0` to `j >= 0`\n"
   ]
  },
  {
   "cell_type": "code",
   "execution_count": 19,
   "metadata": {},
   "outputs": [
    {
     "output_type": "stream",
     "name": "stdout",
     "text": "1 2 2 2 3 4 5 6 7 8\n"
    }
   ],
   "source": [
    "test = [3, 2, 1, 5, 4, 2, 6, 8, 7, 2,]\n",
    "\n",
    "def insertion_sort(l):\n",
    "    for i in range(1, len(l)):\n",
    "        j = i-1\n",
    "        key = l[i]\n",
    "        while (j >= 0) and (l[j] > key):\n",
    "           l[j+1] = l[j]\n",
    "           j -= 1\n",
    "        l[j+1] = key\n",
    "    return l\n",
    "\n",
    "insertion_sort(test)\n",
    "print(\" \".join(map(str,test)))"
   ]
  },
  {
   "cell_type": "code",
   "execution_count": null,
   "metadata": {},
   "outputs": [],
   "source": []
  }
 ],
 "metadata": {
  "language_info": {
   "codemirror_mode": {
    "name": "ipython",
    "version": 3
   },
   "file_extension": ".py",
   "mimetype": "text/x-python",
   "name": "python",
   "nbconvert_exporter": "python",
   "pygments_lexer": "ipython3",
   "version": "3.7.3-final"
  },
  "orig_nbformat": 2,
  "kernelspec": {
   "name": "python37364bitbasecondad6945e01540e4d0086b53a68cfcf3e5f",
   "display_name": "Python 3.7.3 64-bit ('base': conda)"
  }
 },
 "nbformat": 4,
 "nbformat_minor": 2
}